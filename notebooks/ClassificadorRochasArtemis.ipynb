{
 "cells": [
  {
   "cell_type": "code",
   "execution_count": 1,
   "metadata": {
    "collapsed": true,
    "pycharm": {
     "name": "#%%\n"
    }
   },
   "outputs": [
    {
     "name": "stdout",
     "output_type": "stream",
     "text": [
      "Classificador de rochas artemis\n"
     ]
    }
   ],
   "source": [
    "print(\"Classificador de rochas artemis\")"
   ]
  },
  {
   "cell_type": "code",
   "execution_count": 15,
   "outputs": [
    {
     "name": "stdout",
     "output_type": "stream",
     "text": [
      "não achei a rocha\n",
      "4\n"
     ]
    }
   ],
   "source": [
    "basalt = 0\n",
    "breccia = 0\n",
    "highland = 0\n",
    "regolith = 0\n",
    "rockList = []\n",
    "\n",
    "strPath = \"C:\\\\Users\\\\GABRI\\\\PycharmProjects\\\\scientificProject\\\\data\\\\rocks.txt\"\n",
    "fileObject = open(strPath)\n",
    "rockList = fileObject.readlines()\n",
    "\n",
    "def countMoonRocks(rocktoid):\n",
    "    global basalt\n",
    "    global breccia\n",
    "    global highland\n",
    "    global regolith\n",
    "    rocktoid = rocktoid.lower()\n",
    "\n",
    "    if \"basalt\" in rocktoid:\n",
    "        basalt += 1\n",
    "    elif \"breccia\" in rocktoid:\n",
    "        breccia += 1\n",
    "    elif \"highland\" in rocktoid:\n",
    "        highland += 1\n",
    "    elif \"regolith\" in rocktoid:\n",
    "        regolith += 1\n",
    "    else:\n",
    "        print('não achei a rocha')\n",
    "\n",
    "    return\n",
    "\n",
    "\n",
    "for rock in rockList:\n",
    "    countMoonRocks(rock)\n",
    "\n",
    "\n"
   ],
   "metadata": {
    "collapsed": false,
    "pycharm": {
     "name": "#%%\n"
    }
   }
  }
 ],
 "metadata": {
  "kernelspec": {
   "display_name": "Python 3",
   "language": "python",
   "name": "python3"
  },
  "language_info": {
   "codemirror_mode": {
    "name": "ipython",
    "version": 2
   },
   "file_extension": ".py",
   "mimetype": "text/x-python",
   "name": "python",
   "nbconvert_exporter": "python",
   "pygments_lexer": "ipython2",
   "version": "2.7.6"
  }
 },
 "nbformat": 4,
 "nbformat_minor": 0
}